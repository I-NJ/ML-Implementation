{
 "cells": [
  {
   "cell_type": "code",
   "execution_count": 1,
   "id": "757ed4d5",
   "metadata": {},
   "outputs": [],
   "source": [
    "import pandas as pd"
   ]
  },
  {
   "cell_type": "code",
   "execution_count": 2,
   "id": "7c5b0121",
   "metadata": {},
   "outputs": [],
   "source": [
    "from chefboost import Chefboost as cb"
   ]
  },
  {
   "cell_type": "code",
   "execution_count": 4,
   "id": "2759d687",
   "metadata": {},
   "outputs": [],
   "source": [
    "data = pd.read_csv(\"decision_tree_data.csv\")\n",
    "config = {'algorithm':'CART'}"
   ]
  },
  {
   "cell_type": "code",
   "execution_count": 5,
   "id": "ca2ba6ff",
   "metadata": {},
   "outputs": [
    {
     "name": "stdout",
     "output_type": "stream",
     "text": [
      "[INFO]:  6 CPU cores will be allocated in parallel running\n",
      "CART  tree is going to be built...\n",
      "-------------------------\n",
      "finished in  1.9872026443481445  seconds\n",
      "-------------------------\n",
      "Evaluate  train set\n",
      "-------------------------\n",
      "Accuracy:  100.0 % on  14  instances\n",
      "Labels:  ['no ' 'yes ' 'no']\n",
      "Confusion matrix:  [[4, 0, 0], [0, 9, 0], [0, 0, 1]]\n",
      "Decision  no   => Accuray:  100.0 %, Precision:  100.0 %, Recall:  100.0 %, F1:  100.0 %\n",
      "Decision  yes   => Accuray:  100.0 %, Precision:  100.0 %, Recall:  100.0 %, F1:  100.0 %\n",
      "Decision  no  => Accuray:  100.0 %, Precision:  100.0 %, Recall:  100.0 %, F1:  100.0 %\n"
     ]
    }
   ],
   "source": [
    "dt = cb.fit(data,config)"
   ]
  },
  {
   "cell_type": "code",
   "execution_count": 6,
   "id": "3cfef60d",
   "metadata": {},
   "outputs": [
    {
     "data": {
      "text/plain": [
       "'yes '"
      ]
     },
     "execution_count": 6,
     "metadata": {},
     "output_type": "execute_result"
    }
   ],
   "source": [
    "cb.predict(dt,data.iloc[2])"
   ]
  },
  {
   "cell_type": "code",
   "execution_count": 8,
   "id": "55e5d6e4",
   "metadata": {},
   "outputs": [],
   "source": [
    "restoredtree = cb.restoreTree(\"outputs/rules/rules\")"
   ]
  },
  {
   "cell_type": "code",
   "execution_count": 9,
   "id": "dd81539e",
   "metadata": {},
   "outputs": [
    {
     "data": {
      "text/plain": [
       "'yes '"
      ]
     },
     "execution_count": 9,
     "metadata": {},
     "output_type": "execute_result"
    }
   ],
   "source": [
    "restoredtree.findDecision(data.iloc[2])"
   ]
  },
  {
   "cell_type": "code",
   "execution_count": 10,
   "id": "932d601c",
   "metadata": {},
   "outputs": [
    {
     "name": "stdout",
     "output_type": "stream",
     "text": [
      "Decision rule:  outputs/rules/rules.py\n"
     ]
    },
    {
     "data": {
      "text/html": [
       "<div>\n",
       "<style scoped>\n",
       "    .dataframe tbody tr th:only-of-type {\n",
       "        vertical-align: middle;\n",
       "    }\n",
       "\n",
       "    .dataframe tbody tr th {\n",
       "        vertical-align: top;\n",
       "    }\n",
       "\n",
       "    .dataframe thead th {\n",
       "        text-align: right;\n",
       "    }\n",
       "</style>\n",
       "<table border=\"1\" class=\"dataframe\">\n",
       "  <thead>\n",
       "    <tr style=\"text-align: right;\">\n",
       "      <th></th>\n",
       "      <th>feature</th>\n",
       "      <th>importance</th>\n",
       "    </tr>\n",
       "  </thead>\n",
       "  <tbody>\n",
       "    <tr>\n",
       "      <th>0</th>\n",
       "      <td>outlook</td>\n",
       "      <td>0.8077</td>\n",
       "    </tr>\n",
       "    <tr>\n",
       "      <th>3</th>\n",
       "      <td>wind</td>\n",
       "      <td>0.1923</td>\n",
       "    </tr>\n",
       "    <tr>\n",
       "      <th>1</th>\n",
       "      <td>temperature</td>\n",
       "      <td>0.0000</td>\n",
       "    </tr>\n",
       "    <tr>\n",
       "      <th>2</th>\n",
       "      <td>humidity</td>\n",
       "      <td>0.0000</td>\n",
       "    </tr>\n",
       "  </tbody>\n",
       "</table>\n",
       "</div>"
      ],
      "text/plain": [
       "       feature  importance\n",
       "0      outlook      0.8077\n",
       "3         wind      0.1923\n",
       "1  temperature      0.0000\n",
       "2     humidity      0.0000"
      ]
     },
     "execution_count": 10,
     "metadata": {},
     "output_type": "execute_result"
    }
   ],
   "source": [
    "cb.feature_importance(\"outputs/rules/rules.py\")"
   ]
  },
  {
   "cell_type": "code",
   "execution_count": null,
   "id": "844b15b8",
   "metadata": {},
   "outputs": [],
   "source": []
  }
 ],
 "metadata": {
  "kernelspec": {
   "display_name": "Python 3 (ipykernel)",
   "language": "python",
   "name": "python3"
  },
  "language_info": {
   "codemirror_mode": {
    "name": "ipython",
    "version": 3
   },
   "file_extension": ".py",
   "mimetype": "text/x-python",
   "name": "python",
   "nbconvert_exporter": "python",
   "pygments_lexer": "ipython3",
   "version": "3.10.9"
  }
 },
 "nbformat": 4,
 "nbformat_minor": 5
}
